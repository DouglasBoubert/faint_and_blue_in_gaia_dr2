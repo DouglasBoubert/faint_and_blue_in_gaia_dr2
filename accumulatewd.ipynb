{
 "cells": [
  {
   "cell_type": "code",
   "execution_count": 2,
   "metadata": {},
   "outputs": [],
   "source": [
    "\"\"\" Query wsdb for Gaia and GALEX magnitudes. \"\"\"\n",
    "\n",
    "##### Dependencies\n",
    "import numpy as np\n",
    "import pandas as pd\n",
    "%matplotlib osx\n",
    "import matplotlib.pyplot as plt\n",
    "from astropy import units as u\n",
    "from astropy.coordinates import SkyCoord as coord\n",
    "import sqlutilpy\n",
    "from astropy.io import fits"
   ]
  },
  {
   "cell_type": "code",
   "execution_count": 3,
   "metadata": {},
   "outputs": [],
   "source": [
    "##### Load in Xue data\n",
    "hdul = fits.open('/Users/douglasboubert/Documents/Science/GaiaDR2/HVSsurvey/data/kepler2015.fits')\n",
    "listcol = [hdul[1].data.__dict__['_coldefs'][i].name for i in range(len(hdul[1].data.__dict__['_coldefs']))]\n",
    "acceptablewd = ['        WHITE DWARF D '+wdletter for wdletter in ['A','B','C','O','Q','X','Z']]\n",
    "acceptrows = [i for i in range(len(hdul[1].data['CLASS'])) if hdul[1].data['CLASS'][i] in acceptablewd]\n",
    "wdbox = {k:hdul[1].data[k][acceptrows] for k in listcol}\n",
    "wd_x = [hdul[1].data[k][acceptrows] for k in listcol]"
   ]
  },
  {
   "cell_type": "code",
   "execution_count": 4,
   "metadata": {},
   "outputs": [
    {
     "data": {
      "text/plain": [
       "dict_keys(['NAME', 'RA', 'DEC', 'GMAG', 'GMAG_ERROR', 'SPECT_TYPE', 'T_EFF', 'T_EFF_ERROR', 'LOG_G', 'PLATE_NUMBER', 'SPECTRUM_DATE', 'FIBER_NUMBER', 'LII', 'BII', 'GMAG_SNR', 'UMAG', 'UMAG_ERROR', 'RMAG', 'RMAG_ERROR', 'IMAG', 'IMAG_ERROR', 'ZMAG', 'ZMAG_ERROR', 'PM_TOT', 'LOG_G_ERROR', 'T_EFF_3D', 'T_EFF_3D_ERROR', 'LOG_G_3D', 'LOG_G_3D_ERROR', 'MASS', 'MASS_ERROR', 'COMMENTS', 'CLASS'])"
      ]
     },
     "execution_count": 4,
     "metadata": {},
     "output_type": "execute_result"
    }
   ],
   "source": [
    "wdbox.keys()"
   ]
  },
  {
   "cell_type": "code",
   "execution_count": 5,
   "metadata": {},
   "outputs": [
    {
     "name": "stdout",
     "output_type": "stream",
     "text": [
      "        WHITE DWARF D A 6428\n",
      "        WHITE DWARF D B 310\n",
      "        WHITE DWARF D C 326\n",
      "        WHITE DWARF D O 29\n",
      "        WHITE DWARF D Q 71\n",
      "        WHITE DWARF D X 2\n",
      "        WHITE DWARF D Z 394\n"
     ]
    }
   ],
   "source": [
    "for wd in np.unique(wdbox['CLASS']):\n",
    "    print(wd, np.where(wdbox['CLASS']==wd)[0].shape[0])"
   ]
  },
  {
   "cell_type": "code",
   "execution_count": 8,
   "metadata": {},
   "outputs": [],
   "source": [
    "##### Query WSDB to get Gaia data \n",
    "wd_keys = ['wd'+lc for lc in listcol]\n",
    "gaia_keys = ['source_id', 'ra', 'ra_error', 'dec', 'dec_error', 'parallax', 'parallax_error', 'parallax_over_error', 'pmra', 'pmra_error', 'pmdec', 'pmdec_error', 'ra_dec_corr', 'ra_parallax_corr', 'ra_pmra_corr', 'ra_pmdec_corr', 'dec_parallax_corr', 'dec_pmra_corr', 'dec_pmdec_corr', 'parallax_pmra_corr', 'parallax_pmdec_corr', 'pmra_pmdec_corr', 'astrometric_n_obs_al', 'astrometric_n_obs_ac', 'astrometric_n_good_obs_al', 'astrometric_n_bad_obs_al', 'astrometric_gof_al', 'astrometric_chi2_al', 'astrometric_excess_noise', 'astrometric_excess_noise_sig', 'astrometric_params_solved', 'astrometric_primary_flag', 'astrometric_weight_al', 'astrometric_pseudo_colour', 'astrometric_pseudo_colour_error', 'mean_varpi_factor_al', 'astrometric_matched_observations', 'visibility_periods_used', 'astrometric_sigma5d_max', 'frame_rotator_object_type', 'matched_observations', 'duplicated_source', 'phot_g_n_obs', 'phot_g_mean_flux', 'phot_g_mean_flux_error', 'phot_g_mean_flux_over_error', 'phot_g_mean_mag', 'phot_bp_n_obs', 'phot_bp_mean_flux', 'phot_bp_mean_flux_error', 'phot_bp_mean_flux_over_error', 'phot_bp_mean_mag', 'phot_rp_n_obs', 'phot_rp_mean_flux', 'phot_rp_mean_flux_error', 'phot_rp_mean_flux_over_error', 'phot_rp_mean_mag', 'phot_bp_rp_excess_factor', 'phot_proc_mode', 'bp_rp', 'bp_g', 'g_rp', 'phot_variable_flag', 'l', 'b', 'a_g_val', 'e_bp_min_rp_val', 'radial_velocity', 'radial_velocity_error', 'rv_nb_transits','rv_template_teff','rv_template_logg','rv_template_fe_h','ebv']\n",
    "galex_keys = ['galex_ra','galex_dec','fuv_mag','fuv_magerr','nuv_mag','nuv_magerr']\n",
    "allwise_keys = ['allwise_ra','allwise_dec','w1mpro','w1sigmpro','w2mpro','w2sigmpro']"
   ]
  },
  {
   "cell_type": "code",
   "execution_count": 7,
   "metadata": {},
   "outputs": [
    {
     "name": "stdout",
     "output_type": "stream",
     "text": [
      "Finished Gaia cross-match, 4904 sources.\n",
      "Finished GALEX cross-match, 4387 sources.\n",
      "Finished ALLWISE cross-match, 3033 sources.\n"
     ]
    }
   ],
   "source": [
    "### Cross-match with Gaia source\n",
    "gaia_x = sqlutilpy.local_join(\"\"\"\n",
    "   select CAST(source_id as real), ra, ra_error, dec, dec_error, parallax, parallax_error, parallax_over_error, pmra, pmra_error, pmdec, pmdec_error, ra_dec_corr, ra_parallax_corr, ra_pmra_corr, ra_pmdec_corr, dec_parallax_corr, dec_pmra_corr, dec_pmdec_corr, parallax_pmra_corr, parallax_pmdec_corr, pmra_pmdec_corr, CAST(astrometric_n_obs_al as real), CAST(astrometric_n_obs_ac as real), CAST(astrometric_n_good_obs_al as real), CAST(astrometric_n_bad_obs_al as real), astrometric_gof_al, astrometric_chi2_al, astrometric_excess_noise, astrometric_excess_noise_sig, CAST(astrometric_params_solved as real), astrometric_primary_flag, astrometric_weight_al, astrometric_pseudo_colour, astrometric_pseudo_colour_error, mean_varpi_factor_al, CAST(astrometric_matched_observations as real), CAST(visibility_periods_used as real), astrometric_sigma5d_max, CAST(frame_rotator_object_type as real), CAST(matched_observations as real), duplicated_source, CAST(phot_g_n_obs as real), phot_g_mean_flux, phot_g_mean_flux_error, phot_g_mean_flux_over_error, phot_g_mean_mag, CAST(phot_bp_n_obs as real), phot_bp_mean_flux, phot_bp_mean_flux_error, phot_bp_mean_flux_over_error, phot_bp_mean_mag, CAST(phot_rp_n_obs as real), phot_rp_mean_flux, phot_rp_mean_flux_error, phot_rp_mean_flux_over_error, phot_rp_mean_mag, phot_bp_rp_excess_factor, CAST(phot_proc_mode as real), bp_rp, bp_g, g_rp, phot_variable_flag, l, b, a_g_val, e_bp_min_rp_val, radial_velocity, radial_velocity_error, CAST(rv_nb_transits as real),rv_template_teff,rv_template_logg,rv_template_fe_h,ebv from mytable as m left join lateral (select * from gaia_dr2.gaia_source as g where \n",
    "               q3c_join(m.wdra, m.wddec,g.ra,g.dec,1./3600)\n",
    "       order by q3c_dist(m.wdra,m.wddec,g.ra,g.dec) asc limit 1)\n",
    "       as tt on  true  order by xid\"\"\",'mytable',\n",
    "       (wdbox['RA'],wdbox['DEC'],np.arange(len(wdbox['RA']))),('wdra','wddec','xid'),\n",
    "           host='cappc127.ast.cam.ac.uk', user='douglas_boubert', password='chopel3082',\n",
    "       preamb='set enable_seqscan to off; set enable_mergejoin to off; set enable_hashjoin to off;')\n",
    "print(\"Finished Gaia cross-match, \"+str(np.where(np.isnan(gaia_x[0])==False)[0].shape[0])+\" sources.\")                \n",
    "\n",
    "### Cross-match with GALEX\n",
    "galex_x = sqlutilpy.local_join(\"\"\"\n",
    "   select ra,dec,fuv_mag,fuv_magerr,nuv_mag,nuv_magerr from mytable as m left join lateral (select * from galex_bst17.main_fov055 as g where \n",
    "               q3c_join(m.wdra, m.wddec,g.ra,g.dec,10./3600)\n",
    "       order by q3c_dist(m.wdra,m.wddec,g.ra,g.dec) asc limit 1)\n",
    "       as tt on  true  order by xid\"\"\",'mytable',\n",
    "       (wdbox['RA'],wdbox['DEC'],np.arange(len(wdbox['RA']))),('wdra','wddec','xid'),\n",
    "           host='cappc127.ast.cam.ac.uk', user='douglas_boubert', password='chopel3082',\n",
    "       preamb='set enable_seqscan to off; set enable_mergejoin to off; set enable_hashjoin to off;')\n",
    "print(\"Finished GALEX cross-match, \"+str(np.where(np.isnan(galex_x[0])==False)[0].shape[0])+\" sources.\")\n",
    "\n",
    "### Cross-match with ALLWISE\n",
    "allwise_x = sqlutilpy.local_join(\"\"\"\n",
    "   select ra, dec, w1mpro, w1sigmpro, w2mpro, w2sigmpro from mytable as m left join lateral (select * from allwise.main as g where \n",
    "               q3c_join(m.wdra, m.wddec,g.ra,g.dec,10./3600)\n",
    "       order by q3c_dist(m.wdra,m.wddec,g.ra,g.dec) asc limit 1)\n",
    "       as tt on  true  order by xid\"\"\",'mytable',\n",
    "       (wdbox['RA'],wdbox['DEC'],np.arange(len(wdbox['RA']))),('wdra','wddec','xid'),\n",
    "           host='cappc127.ast.cam.ac.uk', user='douglas_boubert', password='chopel3082',\n",
    "       preamb='set enable_seqscan to off; set enable_mergejoin to off; set enable_hashjoin to off;')\n",
    "print(\"Finished ALLWISE cross-match, \"+str(np.where(np.isnan(allwise_x[0])==False)[0].shape[0])+\" sources.\") "
   ]
  },
  {
   "cell_type": "code",
   "execution_count": null,
   "metadata": {},
   "outputs": [],
   "source": []
  },
  {
   "cell_type": "code",
   "execution_count": 9,
   "metadata": {},
   "outputs": [],
   "source": [
    "##### Merge together\n",
    "x = wd_x+gaia_x+galex_x+allwise_x\n",
    "keys = wd_keys+gaia_keys+galex_keys+allwise_keys\n",
    "gagawdbox = {keys[i]:x[i] for i in range(len(x))}"
   ]
  },
  {
   "cell_type": "code",
   "execution_count": 10,
   "metadata": {},
   "outputs": [],
   "source": [
    "##### Save cross-match\n",
    "np.savez_compressed('/Users/douglasboubert/Documents/Science/GaiaDR2/HVSsurvey/data/gagawd.npz',gagawdbox=gagawdbox)"
   ]
  },
  {
   "cell_type": "code",
   "execution_count": null,
   "metadata": {},
   "outputs": [],
   "source": [
    "plt.scatter(gagawdbox['l'],gagawdbox['b'])"
   ]
  },
  {
   "cell_type": "code",
   "execution_count": null,
   "metadata": {},
   "outputs": [],
   "source": []
  }
 ],
 "metadata": {
  "kernelspec": {
   "display_name": "Python 3",
   "language": "python",
   "name": "python3"
  }
 },
 "nbformat": 4,
 "nbformat_minor": 2
}
