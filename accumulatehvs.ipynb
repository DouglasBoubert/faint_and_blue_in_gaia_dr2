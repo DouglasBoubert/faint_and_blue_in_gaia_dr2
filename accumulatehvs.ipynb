{
 "cells": [
  {
   "cell_type": "code",
   "execution_count": 1,
   "metadata": {},
   "outputs": [],
   "source": [
    "\"\"\" Query wsdb for Gaia and GALEX magnitudes. \"\"\"\n",
    "\n",
    "##### Dependencies\n",
    "import numpy as np\n",
    "import pandas as pd\n",
    "%matplotlib osx\n",
    "import matplotlib.pyplot as plt\n",
    "from astropy import units as u\n",
    "from astropy.coordinates import SkyCoord as coord\n",
    "import sqlutilpy\n",
    "from astropy.io import fits"
   ]
  },
  {
   "cell_type": "code",
   "execution_count": null,
   "metadata": {},
   "outputs": [],
   "source": [
    "##### Load your wsdb.id\n",
    "wsdbtmp = np.loadtxt('./wsdb.id',dtype=np.str_)\n",
    "wsdbid = {'user':wsdbtmp[0],'password':wsdbtmp[1]}"
   ]
  },
  {
   "cell_type": "code",
   "execution_count": 2,
   "metadata": {},
   "outputs": [],
   "source": [
    "##### Guide to data format from Warren Brown\n",
    "# ra,dec   -- J2000 coordinates (h:m:s, d:m:s)\n",
    "# g0,ug0,gr0,ri0  --  de-reddened SDSS magnitude and colors (mag)\n",
    "# wd,type  -- my classification (wd=1 is DA white dwarf, wd=-1 is QSO, wd=0 is B-type star)\n",
    "# vel,vel_err  -- heliocentric radial velocity (km/s)\n",
    "# nobs,rms   -- number of observations and RMS velocity for nobs>1 (objects with large \"nobs\" and \"rms\" are ELM WD binaries, see http://adsabs.harvard.edu/abs/2016ApJ...818..155B for a recent compilation)\n",
    "# templ  -- cross-correlation template used\n",
    "# v_grf  -- galacto-centric rest-frame radial velocity, calculated assuming v_circ=235 and Schonrich+10 LSR (km/s)\n",
    "# glon,glat  -- Galactic longitude and latitude (deg)\n",
    "# ebv  -- E(B-V) reddening value from Schlegel+98 (mag)\n",
    "# Mb  -- estimate of absolute g-band mag if solar metallicty main sequence B star (mag)\n",
    "# db,Rb  -- heliocentric and Galactocentric distance assuming Mb (kpc)\n",
    "# Mbhb  -- estimate of absolute g-band mag if BHB star (mag)\n",
    "# dbhb,Rbhb  -- heliocentric and Galactocentric distance assuming Mbhb (kpc)\n",
    "# teff,teff_e,logg,logg_e  -- effective temperature and surface gravity derived from 1D pure H atmosphere models, used for white dwarfs (note the logg==5 limit:  these values are invalid in the vast majority of cases)\n",
    "# u,g,r,i,z,u_e,g_e,r_e,i_e,z_e  -- SDSS apparent magnitudes and errors (mag)\n",
    "# id   -- my observing identifier.  Note that a handful of objects come from SDSS spectroscopy, not mine.\n",
    "\n",
    "##### Load in data\n",
    "hvsfile = './data/wbrown_hvs_survey.txt'\n",
    "hvsdata = pd.read_fwf(hvsfile,delimiter='\\s+',skiprows=[1])\n",
    "hvsrastr = hvsdata['ra          '].as_matrix().astype(np.str_)\n",
    "hvsdecstr = hvsdata['dec          '].as_matrix().astype(np.str_)\n",
    "nhvs = len(hvsrastr)\n",
    "hvswd = hvsdata['wd'].as_matrix()\n",
    "hvsvel = hvsdata['vel    '].as_matrix()\n",
    "hvsvelerr = hvsdata['vel_err'].as_matrix()\n",
    "hvsvgrf = hvsdata['v_grf  '].as_matrix()\n",
    "hvsdbhb = hvsdata['dbhb '].as_matrix()\n",
    "hvsdb = hvsdata['db    '].as_matrix()\n",
    "hvsug0 = hvsdata['ug0   '].as_matrix()\n",
    "hvsgr0 = hvsdata['gr0    '].as_matrix()\n",
    "hvsri0 = hvsdata['ri0    '].as_matrix()\n",
    "hvsg0 = hvsdata['g0    '].as_matrix()\n",
    "hvsnobs = hvsdata['nob'].as_matrix()\n",
    "hvsebv = hvsdata['ebv   '].as_matrix()\n",
    "hvstype = hvsdata['type'].as_matrix()\n",
    "\n",
    "##### Sanitize data\n",
    "for i in range(nhvs):\n",
    "    hvsrastr[i] = hvsrastr[i].strip(' ')\n",
    "    hvsdecstr[i] = hvsdecstr[i].strip(' ')\n",
    "    if (hvsdecstr[i][0] != '-') & (hvsdecstr[i][0] != '+'):\n",
    "        hvsdecstr[i] = '+' + hvsdecstr[i]\n",
    "hvsvelerr = np.array([float(val) if val != '       ' else np.nan for val in hvsvelerr])\n",
    "hvsvel = np.array([float(val) if val != '       ' else np.nan for val in hvsvel])\n",
    "hvsdbhb = np.array([float(val) if val != '     ' else np.nan for val in hvsdbhb])\n",
    "hvsvgrf = np.array([float(val) if val != '       ' else np.nan for val in hvsvgrf])\n",
    "\n",
    "##### Obtain numeric ra/dec\n",
    "hvsradec = np.array(np.char.array(hvsrastr)+np.char.array(hvsdecstr))\n",
    "hvscoord = coord(hvsradec,unit=(u.hourangle, u.deg))\n",
    "hvsra = hvscoord.ra.deg\n",
    "hvsdec = hvscoord.dec.deg\n",
    "hvsl = hvscoord.galactic.l.deg\n",
    "hvsb = hvscoord.galactic.b.deg"
   ]
  },
  {
   "cell_type": "code",
   "execution_count": 4,
   "metadata": {},
   "outputs": [],
   "source": [
    "##### Query WSDB to get Gaia data \n",
    "hvs_keys = ['hvsra', 'hvsdec', 'hvsl', 'hvsb', 'hvsvel', 'hvsvelerr', 'hvswd', 'hvstype', 'hvsnobs', 'hvsebv', 'hvsdb', 'hvsdbhb', 'hvsg0', 'hvsug0', 'hvsgr0', 'hvsri0']\n",
    "hvs_x = [hvsra, hvsdec, hvsl, hvsb, hvsvel, hvsvelerr, hvswd, hvstype, hvsnobs, hvsebv, hvsdb, hvsdbhb, hvsg0, hvsug0, hvsgr0, hvsri0]\n",
    "gaia_keys = ['source_id', 'ra', 'ra_error', 'dec', 'dec_error', 'parallax', 'parallax_error', 'parallax_over_error', 'pmra', 'pmra_error', 'pmdec', 'pmdec_error', 'ra_dec_corr', 'ra_parallax_corr', 'ra_pmra_corr', 'ra_pmdec_corr', 'dec_parallax_corr', 'dec_pmra_corr', 'dec_pmdec_corr', 'parallax_pmra_corr', 'parallax_pmdec_corr', 'pmra_pmdec_corr', 'astrometric_n_obs_al', 'astrometric_n_obs_ac', 'astrometric_n_good_obs_al', 'astrometric_n_bad_obs_al', 'astrometric_gof_al', 'astrometric_chi2_al', 'astrometric_excess_noise', 'astrometric_excess_noise_sig', 'astrometric_params_solved', 'astrometric_primary_flag', 'astrometric_weight_al', 'astrometric_pseudo_colour', 'astrometric_pseudo_colour_error', 'mean_varpi_factor_al', 'astrometric_matched_observations', 'visibility_periods_used', 'astrometric_sigma5d_max', 'frame_rotator_object_type', 'matched_observations', 'duplicated_source', 'phot_g_n_obs', 'phot_g_mean_flux', 'phot_g_mean_flux_error', 'phot_g_mean_flux_over_error', 'phot_g_mean_mag', 'phot_bp_n_obs', 'phot_bp_mean_flux', 'phot_bp_mean_flux_error', 'phot_bp_mean_flux_over_error', 'phot_bp_mean_mag', 'phot_rp_n_obs', 'phot_rp_mean_flux', 'phot_rp_mean_flux_error', 'phot_rp_mean_flux_over_error', 'phot_rp_mean_mag', 'phot_bp_rp_excess_factor', 'phot_proc_mode', 'bp_rp', 'bp_g', 'g_rp', 'phot_variable_flag', 'l', 'b', 'a_g_val', 'e_bp_min_rp_val', 'radial_velocity', 'radial_velocity_error', 'rv_nb_transits','rv_template_teff','rv_template_logg','rv_template_fe_h','ebv']\n",
    "galex_keys = ['galex_ra','galex_dec','fuv_mag','fuv_magerr','nuv_mag','nuv_magerr']\n",
    "allwise_keys = ['allwise_ra','allwise_dec','w1mpro','w1sigmpro','w2mpro','w2sigmpro']"
   ]
  },
  {
   "cell_type": "code",
   "execution_count": 5,
   "metadata": {},
   "outputs": [
    {
     "name": "stdout",
     "output_type": "stream",
     "text": [
      "Finished Gaia cross-match, 1427 sources.\n",
      "Finished GALEX cross-match, 1104 sources.\n",
      "Finished ALLWISE cross-match, 999 sources.\n"
     ]
    }
   ],
   "source": [
    "### Cross-match with Gaia source\n",
    "gaia_x = sqlutilpy.local_join(\"\"\"\n",
    "   select CAST(source_id as real), ra, ra_error, dec, dec_error, parallax, parallax_error, parallax_over_error, pmra, pmra_error, pmdec, pmdec_error, ra_dec_corr, ra_parallax_corr, ra_pmra_corr, ra_pmdec_corr, dec_parallax_corr, dec_pmra_corr, dec_pmdec_corr, parallax_pmra_corr, parallax_pmdec_corr, pmra_pmdec_corr, CAST(astrometric_n_obs_al as real), CAST(astrometric_n_obs_ac as real), CAST(astrometric_n_good_obs_al as real), CAST(astrometric_n_bad_obs_al as real), astrometric_gof_al, astrometric_chi2_al, astrometric_excess_noise, astrometric_excess_noise_sig, CAST(astrometric_params_solved as real), astrometric_primary_flag, astrometric_weight_al, astrometric_pseudo_colour, astrometric_pseudo_colour_error, mean_varpi_factor_al, CAST(astrometric_matched_observations as real), CAST(visibility_periods_used as real), astrometric_sigma5d_max, CAST(frame_rotator_object_type as real), CAST(matched_observations as real), duplicated_source, CAST(phot_g_n_obs as real), phot_g_mean_flux, phot_g_mean_flux_error, phot_g_mean_flux_over_error, phot_g_mean_mag, CAST(phot_bp_n_obs as real), phot_bp_mean_flux, phot_bp_mean_flux_error, phot_bp_mean_flux_over_error, phot_bp_mean_mag, CAST(phot_rp_n_obs as real), phot_rp_mean_flux, phot_rp_mean_flux_error, phot_rp_mean_flux_over_error, phot_rp_mean_mag, phot_bp_rp_excess_factor, CAST(phot_proc_mode as real), bp_rp, bp_g, g_rp, phot_variable_flag, l, b, a_g_val, e_bp_min_rp_val, radial_velocity, radial_velocity_error, CAST(rv_nb_transits as real),rv_template_teff,rv_template_logg,rv_template_fe_h,ebv from mytable as m left join lateral (select * from gaia_dr2.gaia_source as g where \n",
    "               q3c_join(m.hvsra, m.hvsdec,g.ra,g.dec,1./3600)\n",
    "       order by q3c_dist(m.hvsra,m.hvsdec,g.ra,g.dec) asc limit 1)\n",
    "       as tt on  true  order by xid\"\"\",'mytable',\n",
    "       (hvsra,hvsdec,np.arange(len(hvsra))),('hvsra','hvsdec','xid'),\n",
    "           host='cappc127.ast.cam.ac.uk', user=wsdbid['user'], password=wsdbid['password'],\n",
    "       preamb='set enable_seqscan to off; set enable_mergejoin to off; set enable_hashjoin to off;')\n",
    "print(\"Finished Gaia cross-match, \"+str(np.where(np.isnan(gaia_x[0])==False)[0].shape[0])+\" sources.\")                \n",
    "\n",
    "### Cross-match with GALEX\n",
    "galex_x = sqlutilpy.local_join(\"\"\"\n",
    "   select ra,dec,fuv_mag,fuv_magerr,nuv_mag,nuv_magerr from mytable as m left join lateral (select * from galex_bst17.main_fov055 as g where \n",
    "               q3c_join(m.hvsra, m.hvsdec,g.ra,g.dec,10./3600)\n",
    "       order by q3c_dist(m.hvsra,m.hvsdec,g.ra,g.dec) asc limit 1)\n",
    "       as tt on  true  order by xid\"\"\",'mytable',\n",
    "       (hvsra,hvsdec,np.arange(len(hvsra))),('hvsra','hvsdec','xid'),\n",
    "           host='cappc127.ast.cam.ac.uk', user=wsdbid['user'], password=wsdbid['password'],\n",
    "       preamb='set enable_seqscan to off; set enable_mergejoin to off; set enable_hashjoin to off;')\n",
    "print(\"Finished GALEX cross-match, \"+str(np.where(np.isnan(galex_x[0])==False)[0].shape[0])+\" sources.\")\n",
    "\n",
    "### Cross-match with ALLWISE\n",
    "allwise_x = sqlutilpy.local_join(\"\"\"\n",
    "   select ra, dec, w1mpro, w1sigmpro, w2mpro, w2sigmpro from mytable as m left join lateral (select * from allwise.main as g where \n",
    "               q3c_join(m.hvsra, m.hvsdec,g.ra,g.dec,15./3600)\n",
    "       order by q3c_dist(m.hvsra,m.hvsdec,g.ra,g.dec) asc limit 1)\n",
    "       as tt on  true  order by xid\"\"\",'mytable',\n",
    "       (hvsra,hvsdec,np.arange(len(hvsra))),('hvsra','hvsdec','xid'),\n",
    "           host='cappc127.ast.cam.ac.uk', user=wsdbid['user'], password=wsdbid['password'],\n",
    "       preamb='set enable_seqscan to off; set enable_mergejoin to off; set enable_hashjoin to off;')\n",
    "print(\"Finished ALLWISE cross-match, \"+str(np.where(np.isnan(allwise_x[0])==False)[0].shape[0])+\" sources.\") "
   ]
  },
  {
   "cell_type": "code",
   "execution_count": 6,
   "metadata": {},
   "outputs": [],
   "source": [
    "##### Merge together\n",
    "x = hvs_x+gaia_x+galex_x+allwise_x\n",
    "keys = hvs_keys+gaia_keys+galex_keys+allwise_keys\n",
    "gagahvsbox = {keys[i]:x[i] for i in range(len(x))}"
   ]
  },
  {
   "cell_type": "code",
   "execution_count": 7,
   "metadata": {},
   "outputs": [],
   "source": [
    "##### Save cross-match\n",
    "np.savez_compressed('./data/gagahvs.npz',gagahvsbox=gagahvsbox)"
   ]
  },
  {
   "cell_type": "code",
   "execution_count": null,
   "metadata": {},
   "outputs": [],
   "source": []
  }
 ],
 "metadata": {
  "kernelspec": {
   "display_name": "Python 3",
   "language": "python",
   "name": "python3"
  },
  "language_info": {
   "codemirror_mode": {
    "name": "ipython",
    "version": 3
   },
   "file_extension": ".py",
   "mimetype": "text/x-python",
   "name": "python",
   "nbconvert_exporter": "python",
   "pygments_lexer": "ipython3",
   "version": "3.6.4"
  }
 },
 "nbformat": 4,
 "nbformat_minor": 2
}
