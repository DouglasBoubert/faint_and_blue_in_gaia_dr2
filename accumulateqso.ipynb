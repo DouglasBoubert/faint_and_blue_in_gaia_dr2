{
 "cells": [
  {
   "cell_type": "code",
   "execution_count": 104,
   "metadata": {},
   "outputs": [],
   "source": [
    "\"\"\" Query wsdb for Gaia and GALEX magnitudes. \"\"\"\n",
    "\n",
    "##### Dependencies\n",
    "import numpy as np\n",
    "import pandas as pd\n",
    "%matplotlib osx\n",
    "import matplotlib.pyplot as plt\n",
    "from astropy import units as u\n",
    "from astropy.coordinates import SkyCoord as coord\n",
    "import sqlutilpy\n",
    "from astropy.io import fits"
   ]
  },
  {
   "cell_type": "code",
   "execution_count": 106,
   "metadata": {},
   "outputs": [],
   "source": [
    "##### Acquire QSOs from table\n",
    "fullqso_keys = ['ra','dec','galex_matched','nuv','fuv','psfmag_u', 'psfmag_g', 'psfmag_r', 'psfmag_i', 'psfmag_z', 'err_psfmag_u', 'err_psfmag_g', 'err_psfmag_r', 'err_psfmag_i', 'err_psfmag_z', 'extinction_recal_u', 'extinction_recal_g', 'extinction_recal_r', 'extinction_recal_i', 'extinction_recal_z']\n",
    "fullqso_x = sqlutilpy.get('select ra, dec, galex_matched, nuv, fuv, psfmag_u, psfmag_g, psfmag_r, psfmag_i, psfmag_z, err_psfmag_u, err_psfmag_g, err_psfmag_r, err_psfmag_i, err_psfmag_z, extinction_recal_u, extinction_recal_g, extinction_recal_r, extinction_recal_i, extinction_recal_z from sdssdr12qso.main limit 300000 ',\n",
    "                       db='wsdb',host='cappc127.ast.cam.ac.uk', user='douglas_boubert', password='chopel3082')"
   ]
  },
  {
   "cell_type": "code",
   "execution_count": 122,
   "metadata": {},
   "outputs": [],
   "source": [
    "##### Build colours\n",
    "fullqsobox = {k:v for k,v in zip(fullqso_keys,fullqso_x)}\n",
    "fullqsobox['gr0'] = (fullqsobox['psfmag_g']-fullqsobox['extinction_recal_g'])-(fullqsobox['psfmag_r']-fullqsobox['extinction_recal_r'])\n",
    "fullqsobox['ug0'] = (fullqsobox['psfmag_u']-fullqsobox['extinction_recal_u'])-(fullqsobox['psfmag_g']-fullqsobox['extinction_recal_g'])\n",
    "fullqso_x = [v for k,v in fullqsobox.items()]\n",
    "fullqso_keys = [k for k,v in fullqsobox.items()]"
   ]
  },
  {
   "cell_type": "code",
   "execution_count": 123,
   "metadata": {},
   "outputs": [],
   "source": [
    "##### Select a random sample\n",
    "goodphot = np.where(fullqsobox['gr0']>-100)\n",
    "nchoose = 15000\n",
    "qsochoice = np.random.choice(range(goodphot[0].shape[0]),nchoose, replace=False)\n",
    "qso_x = [fullqso_x[i][goodphot[0][qsochoice]] for i in range(len(fullqso_keys))]\n",
    "qso_keys = ['qso'+fullqso_keys[i] for i in range(len(fullqso_keys))]\n",
    "qsobox = {k:v for k,v in zip(qso_keys,qso_x)}"
   ]
  },
  {
   "cell_type": "code",
   "execution_count": 124,
   "metadata": {},
   "outputs": [],
   "source": [
    "gaia_keys = ['source_id', 'ra', 'ra_error', 'dec', 'dec_error', 'parallax', 'parallax_error', 'parallax_over_error', 'pmra', 'pmra_error', 'pmdec', 'pmdec_error', 'ra_dec_corr', 'ra_parallax_corr', 'ra_pmra_corr', 'ra_pmdec_corr', 'dec_parallax_corr', 'dec_pmra_corr', 'dec_pmdec_corr', 'parallax_pmra_corr', 'parallax_pmdec_corr', 'pmra_pmdec_corr', 'astrometric_n_obs_al', 'astrometric_n_obs_ac', 'astrometric_n_good_obs_al', 'astrometric_n_bad_obs_al', 'astrometric_gof_al', 'astrometric_chi2_al', 'astrometric_excess_noise', 'astrometric_excess_noise_sig', 'astrometric_params_solved', 'astrometric_primary_flag', 'astrometric_weight_al', 'astrometric_pseudo_colour', 'astrometric_pseudo_colour_error', 'mean_varpi_factor_al', 'astrometric_matched_observations', 'visibility_periods_used', 'astrometric_sigma5d_max', 'frame_rotator_object_type', 'matched_observations', 'duplicated_source', 'phot_g_n_obs', 'phot_g_mean_flux', 'phot_g_mean_flux_error', 'phot_g_mean_flux_over_error', 'phot_g_mean_mag', 'phot_bp_n_obs', 'phot_bp_mean_flux', 'phot_bp_mean_flux_error', 'phot_bp_mean_flux_over_error', 'phot_bp_mean_mag', 'phot_rp_n_obs', 'phot_rp_mean_flux', 'phot_rp_mean_flux_error', 'phot_rp_mean_flux_over_error', 'phot_rp_mean_mag', 'phot_bp_rp_excess_factor', 'phot_proc_mode', 'bp_rp', 'bp_g', 'g_rp', 'phot_variable_flag', 'l', 'b', 'a_g_val', 'e_bp_min_rp_val', 'radial_velocity', 'radial_velocity_error', 'rv_nb_transits','rv_template_teff','rv_template_logg','rv_template_fe_h','ebv']\n",
    "galex_keys = ['galex_ra','galex_dec','fuv_mag','fuv_magerr','nuv_mag','nuv_magerr']\n",
    "allwise_keys = ['allwise_ra','allwise_dec','w1mpro','w1sigmpro','w2mpro','w2sigmpro']"
   ]
  },
  {
   "cell_type": "code",
   "execution_count": 125,
   "metadata": {},
   "outputs": [
    {
     "name": "stdout",
     "output_type": "stream",
     "text": [
      "Finished Gaia cross-match, 9695 sources.\n",
      "Finished GALEX cross-match, 4128 sources.\n",
      "Finished ALLWISE cross-match, 12723 sources.\n"
     ]
    }
   ],
   "source": [
    "### Cross-match with Gaia source\n",
    "gaia_x = sqlutilpy.local_join(\"\"\"\n",
    "   select CAST(source_id as real), ra, ra_error, dec, dec_error, parallax, parallax_error, parallax_over_error, pmra, pmra_error, pmdec, pmdec_error, ra_dec_corr, ra_parallax_corr, ra_pmra_corr, ra_pmdec_corr, dec_parallax_corr, dec_pmra_corr, dec_pmdec_corr, parallax_pmra_corr, parallax_pmdec_corr, pmra_pmdec_corr, CAST(astrometric_n_obs_al as real), CAST(astrometric_n_obs_ac as real), CAST(astrometric_n_good_obs_al as real), CAST(astrometric_n_bad_obs_al as real), astrometric_gof_al, astrometric_chi2_al, astrometric_excess_noise, astrometric_excess_noise_sig, CAST(astrometric_params_solved as real), astrometric_primary_flag, astrometric_weight_al, astrometric_pseudo_colour, astrometric_pseudo_colour_error, mean_varpi_factor_al, CAST(astrometric_matched_observations as real), CAST(visibility_periods_used as real), astrometric_sigma5d_max, CAST(frame_rotator_object_type as real), CAST(matched_observations as real), duplicated_source, CAST(phot_g_n_obs as real), phot_g_mean_flux, phot_g_mean_flux_error, phot_g_mean_flux_over_error, phot_g_mean_mag, CAST(phot_bp_n_obs as real), phot_bp_mean_flux, phot_bp_mean_flux_error, phot_bp_mean_flux_over_error, phot_bp_mean_mag, CAST(phot_rp_n_obs as real), phot_rp_mean_flux, phot_rp_mean_flux_error, phot_rp_mean_flux_over_error, phot_rp_mean_mag, phot_bp_rp_excess_factor, CAST(phot_proc_mode as real), bp_rp, bp_g, g_rp, phot_variable_flag, l, b, a_g_val, e_bp_min_rp_val, radial_velocity, radial_velocity_error, CAST(rv_nb_transits as real),rv_template_teff,rv_template_logg,rv_template_fe_h,ebv from mytable as m left join lateral (select * from gaia_dr2.gaia_source as g where \n",
    "               q3c_join(m.qsora, m.qsodec,g.ra,g.dec,1./3600)\n",
    "       order by q3c_dist(m.qsora,m.qsodec,g.ra,g.dec) asc limit 1)\n",
    "       as tt on  true  order by xid\"\"\",'mytable',\n",
    "       (qsobox['qsora'],qsobox['qsodec'],np.arange(len(qsobox['qsora']))),('qsora','qsodec','xid'),\n",
    "           host='cappc127.ast.cam.ac.uk', user='douglas_boubert', password='chopel3082',\n",
    "       preamb='set enable_seqscan to off; set enable_mergejoin to off; set enable_hashjoin to off;')\n",
    "print(\"Finished Gaia cross-match, \"+str(np.where(np.isnan(gaia_x[0])==False)[0].shape[0])+\" sources.\")                \n",
    "\n",
    "### Cross-match with GALEX\n",
    "galex_x = sqlutilpy.local_join(\"\"\"\n",
    "   select ra,dec,fuv_mag,fuv_magerr,nuv_mag,nuv_magerr from mytable as m left join lateral (select * from galex_bst17.main_fov055 as g where \n",
    "               q3c_join(m.qsora, m.qsodec,g.ra,g.dec,10./3600)\n",
    "       order by q3c_dist(m.qsora,m.qsodec,g.ra,g.dec) asc limit 1)\n",
    "       as tt on  true  order by xid\"\"\",'mytable',\n",
    "       (qsobox['qsora'],qsobox['qsodec'],np.arange(len(qsobox['qsora']))),('qsora','qsodec','xid'),\n",
    "           host='cappc127.ast.cam.ac.uk', user='douglas_boubert', password='chopel3082',\n",
    "       preamb='set enable_seqscan to off; set enable_mergejoin to off; set enable_hashjoin to off;')\n",
    "print(\"Finished GALEX cross-match, \"+str(np.where(np.isnan(galex_x[0])==False)[0].shape[0])+\" sources.\")\n",
    "\n",
    "### Cross-match with ALLWISE\n",
    "allwise_x = sqlutilpy.local_join(\"\"\"\n",
    "   select ra, dec, w1mpro, w1sigmpro, w2mpro, w2sigmpro from mytable as m left join lateral (select * from allwise.main as g where \n",
    "               q3c_join(m.qsora, m.qsodec,g.ra,g.dec,10./3600)\n",
    "       order by q3c_dist(m.qsora,m.qsodec,g.ra,g.dec) asc limit 1)\n",
    "       as tt on  true  order by xid\"\"\",'mytable',\n",
    "       (qsobox['qsora'],qsobox['qsodec'],np.arange(len(qsobox['qsora']))),('qsora','qsodec','xid'),\n",
    "           host='cappc127.ast.cam.ac.uk', user='douglas_boubert', password='chopel3082',\n",
    "       preamb='set enable_seqscan to off; set enable_mergejoin to off; set enable_hashjoin to off;')\n",
    "print(\"Finished ALLWISE cross-match, \"+str(np.where(np.isnan(allwise_x[0])==False)[0].shape[0])+\" sources.\") "
   ]
  },
  {
   "cell_type": "code",
   "execution_count": 128,
   "metadata": {},
   "outputs": [],
   "source": [
    "##### Merge together\n",
    "x = qso_x+gaia_x+galex_x+allwise_x\n",
    "keys = qso_keys+gaia_keys+galex_keys+allwise_keys\n",
    "gagaqsobox = {keys[i]:x[i] for i in range(len(x))}"
   ]
  },
  {
   "cell_type": "code",
   "execution_count": 129,
   "metadata": {},
   "outputs": [],
   "source": [
    "##### Save cross-match\n",
    "np.savez_compressed('/Users/douglasboubert/Documents/Science/GaiaDR2/HVSsurvey/data/gagaqso.npz',gagaqsobox=gagaqsobox)"
   ]
  },
  {
   "cell_type": "code",
   "execution_count": 101,
   "metadata": {},
   "outputs": [
    {
     "data": {
      "text/plain": [
       "<matplotlib.collections.PolyCollection at 0x1266e2f98>"
      ]
     },
     "execution_count": 101,
     "metadata": {},
     "output_type": "execute_result"
    }
   ],
   "source": [
    "plt.hexbin(gagaqsobox['pmra'],gagaqsobox['parallax_over_error'])"
   ]
  },
  {
   "cell_type": "code",
   "execution_count": 103,
   "metadata": {},
   "outputs": [
    {
     "data": {
      "text/plain": [
       "array([ 0.,  0.,  0., nan,  0.,  0., nan,  0.,  3., nan,  0.,  3., nan,\n",
       "       nan,  0.,  0., nan,  0., nan,  0., nan, nan,  0.,  0.,  3., nan,\n",
       "        0.,  3.,  0.,  0.,  3.,  0.,  0.,  0.,  0., nan,  3.,  0.,  0.,\n",
       "        0.,  0.,  0.,  0., nan,  0.,  0.,  0.,  0.,  0.,  0.,  0., nan,\n",
       "        0.,  0., nan, nan,  3.,  0.,  0., nan,  0.,  0., nan, nan,  0.,\n",
       "        0.,  0., nan,  0., nan,  0.,  0.,  0.,  3.,  0.,  3., nan,  3.,\n",
       "        0., nan,  3., nan,  3.,  0., nan,  0.,  3.,  0.,  0., nan, nan,\n",
       "        0.,  0., nan,  3.,  0.,  0.,  0., nan,  3.,  3., nan,  0.,  0.,\n",
       "        3.,  3., nan, nan,  0.,  0.,  0., nan,  0.,  3., nan,  0., nan,\n",
       "       nan,  3., nan,  3., nan,  3.,  0.,  0.,  0.,  0.,  0.,  0.,  0.,\n",
       "        0.,  0.,  0., nan, nan, nan, nan, nan,  0., nan,  0.,  0.,  3.,\n",
       "        0.,  0., nan, nan, nan, nan,  0., nan, nan,  0., nan,  0.,  0.,\n",
       "       nan, nan,  0.,  0.,  0.,  0.,  0., nan, nan,  0., nan,  0.,  0.,\n",
       "        0., nan,  0.,  0., nan,  3.,  0., nan,  0.,  3.,  0., nan,  3.,\n",
       "        0.,  0.,  0.,  0.,  0.,  0.,  0.,  0.,  0.,  0.,  0., nan,  0.,\n",
       "        3.,  3.,  0.,  0.,  0.,  3.,  0., nan, nan,  3.,  0., nan,  0.,\n",
       "       nan, nan,  0., nan,  0., nan, nan,  0.,  0.,  0.,  0.,  0.,  3.,\n",
       "        0., nan,  0.,  0.,  0.,  0., nan,  0.,  0., nan,  0.,  3.,  0.,\n",
       "        0.,  0., nan,  0.,  0.,  0.,  0., nan, nan,  0., nan,  3., nan,\n",
       "        0., nan, nan,  0.,  3., nan, nan,  0., nan, nan, nan,  0.,  0.,\n",
       "       nan, nan, nan,  3.,  0.,  0.,  0.,  0.,  0.,  0.,  0.,  0., nan,\n",
       "        0.,  0.,  0.,  0., nan, nan,  3.,  0., nan, nan, nan,  0., nan,\n",
       "        0., nan, nan,  3., nan,  0., nan, nan,  3.,  0., nan,  0.,  0.,\n",
       "        0.,  0.,  0.,  0., nan,  0.,  3.,  0.,  3.,  0., nan,  0., nan,\n",
       "       nan,  0., nan,  0.,  0.,  0., nan,  0.,  3.,  0.,  0.,  0., nan,\n",
       "       nan,  0., nan,  0.,  0.,  3., nan, nan,  0.,  0.,  3., nan,  0.,\n",
       "       nan, nan,  3., nan,  0.,  0., nan,  0., nan,  3.,  0., nan,  0.,\n",
       "       nan, nan, nan,  3.,  0.,  0., nan,  0.,  0., nan,  3., nan,  0.,\n",
       "       nan, nan,  0., nan,  0., nan,  3.,  0.,  0., nan,  0.,  3.,  0.,\n",
       "       nan, nan,  0., nan,  3.,  0., nan,  0.,  0.,  0., nan, nan,  3.,\n",
       "       nan,  0.,  0., nan,  0., nan, nan,  0.,  3., nan,  0., nan,  0.,\n",
       "        0., nan, nan,  0., nan,  0.,  0., nan,  3., nan, nan,  0.,  3.,\n",
       "        0., nan, nan,  0.,  0., nan,  0.,  3., nan,  0.,  0.,  0.,  0.,\n",
       "        0., nan,  0., nan,  0., nan,  0.,  3., nan,  0., nan,  0.,  0.,\n",
       "        0., nan,  0.,  0.,  0.,  0.,  3., nan, nan, nan, nan, nan, nan,\n",
       "        0.,  0., nan,  0.,  0.,  0., nan,  0., nan,  0., nan, nan, nan,\n",
       "        0., nan,  3.,  0., nan,  3.,  0.,  0.,  0., nan,  0.,  0., nan,\n",
       "       nan, nan, nan,  0., nan,  0.,  0.,  0.,  3.,  0.,  0., nan,  0.,\n",
       "        0.,  0., nan, nan,  0., nan,  0.,  3., nan,  0., nan,  3., nan,\n",
       "       nan, nan, nan, nan,  0.,  0.,  0., nan,  0.,  0.,  0.,  3.,  0.,\n",
       "       nan,  0.,  0.,  0.,  0., nan,  0., nan, nan, nan,  0.,  3.,  0.,\n",
       "       nan, nan,  3.,  0.,  0.,  3., nan,  0.,  3.,  0.,  0.,  0., nan,\n",
       "        3.,  0.,  0., nan, nan, nan,  0.,  0.,  0.,  0.,  0.,  0.,  0.,\n",
       "       nan,  0.,  0.,  3., nan,  0.,  0.,  0., nan,  0., nan, nan,  3.,\n",
       "       nan, nan, nan,  0., nan,  0., nan,  0., nan,  0., nan,  0.,  0.,\n",
       "       nan,  0.,  0., nan,  0., nan, nan, nan,  0.,  0.,  0., nan, nan,\n",
       "       nan,  0.,  0., nan,  0.,  0.,  3., nan,  0.,  0., nan,  0.,  0.,\n",
       "        3.,  3., nan, nan, nan,  0.,  0., nan,  0.,  0., nan, nan,  0.,\n",
       "       nan,  0., nan,  3., nan,  0.,  0.,  0., nan, nan,  0., nan, nan,\n",
       "        3.,  3., nan, nan,  0., nan,  3., nan, nan, nan,  0.,  0., nan,\n",
       "        0.,  0., nan,  3., nan,  0., nan, nan,  0.,  0.,  0., nan,  0.,\n",
       "        0.,  0.,  0.,  0.,  0.,  3.,  0.,  0., nan,  0.,  0., nan, nan,\n",
       "       nan,  0.,  0.,  3., nan,  3.,  3., nan,  0., nan,  0.,  0.,  0.,\n",
       "        0.,  0.,  0., nan, nan,  0., nan,  0.,  0.,  0.,  3.,  0.,  0.,\n",
       "       nan,  0.,  0., nan,  0.,  0.,  0., nan, nan,  0., nan,  0., nan,\n",
       "       nan, nan, nan,  0., nan, nan,  0., nan, nan,  0.,  0.,  0., nan,\n",
       "        0., nan,  0., nan,  0.,  0.,  3.,  0.,  0., nan,  0.,  0.,  0.,\n",
       "       nan, nan, nan,  0.,  0.,  0.,  3.,  0., nan,  0.,  0.,  0.,  0.,\n",
       "        0., nan, nan,  0.,  0., nan, nan,  3., nan, nan,  0., nan,  0.,\n",
       "       nan, nan,  3.,  3., nan,  0.,  0., nan,  3.,  0., nan,  0.,  0.,\n",
       "        0., nan,  0.,  0., nan,  3.,  0.,  0.,  0., nan,  3.,  3.,  0.,\n",
       "        0., nan,  0.,  0.,  0.,  0.,  3.,  0.,  0.,  0., nan,  3.,  3.,\n",
       "        0.,  0.,  0., nan,  0., nan, nan,  0.,  3., nan,  0., nan, nan,\n",
       "       nan,  0.,  3.,  0., nan,  0., nan,  0.,  0.,  3.,  3., nan, nan,\n",
       "       nan,  0.,  3.,  3.,  0.,  3.,  0.,  0., nan,  0., nan, nan,  0.,\n",
       "       nan,  0., nan,  0.,  0., nan,  0., nan, nan, nan, nan,  0.,  0.,\n",
       "       nan,  0.,  3., nan,  0.,  0.,  0.,  0.,  0.,  3., nan,  0.,  3.,\n",
       "        3.,  0., nan,  3.,  0.,  0.,  0., nan,  0.,  0., nan,  0.,  0.,\n",
       "       nan,  0.,  0., nan,  0.,  0.,  0., nan, nan,  0.,  0.,  0., nan,\n",
       "       nan,  0.,  0.,  0., nan,  0., nan,  0.,  0.,  0., nan,  0.,  3.,\n",
       "        0.,  0.,  0., nan,  0., nan, nan,  0.,  3.,  0., nan, nan, nan,\n",
       "        0.,  0., nan,  0.,  0., nan, nan,  0.,  3., nan,  0.,  3.,  0.,\n",
       "        0.,  0.,  0.,  0.,  0., nan, nan,  0., nan, nan, nan, nan,  0.,\n",
       "        0., nan,  0.,  0., nan,  0.,  0.,  0., nan, nan,  0.,  3., nan,\n",
       "        0.,  0.,  0.,  0.,  0.,  3., nan, nan,  0.,  0., nan,  0.,  0.,\n",
       "       nan,  3., nan,  0.,  0.,  0., nan,  0.,  0.,  0.,  0., nan,  0.,\n",
       "       nan,  0.,  0.,  0.,  0., nan,  3.,  0.,  3., nan,  0.,  0.],\n",
       "      dtype=float32)"
      ]
     },
     "execution_count": 103,
     "metadata": {},
     "output_type": "execute_result"
    }
   ],
   "source": [
    "gagaqsobox['frame_rotator_object_type'][:1000]"
   ]
  },
  {
   "cell_type": "code",
   "execution_count": null,
   "metadata": {},
   "outputs": [],
   "source": []
  }
 ],
 "metadata": {
  "kernelspec": {
   "display_name": "Python 3",
   "language": "python",
   "name": "python3"
  },
  "language_info": {
   "codemirror_mode": {
    "name": "ipython",
    "version": 3
   },
   "file_extension": ".py",
   "mimetype": "text/x-python",
   "name": "python",
   "nbconvert_exporter": "python",
   "pygments_lexer": "ipython3",
   "version": "3.6.4"
  }
 },
 "nbformat": 4,
 "nbformat_minor": 2
}
