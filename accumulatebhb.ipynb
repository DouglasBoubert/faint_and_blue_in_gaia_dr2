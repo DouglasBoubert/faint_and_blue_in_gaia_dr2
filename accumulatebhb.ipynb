{
 "cells": [
  {
   "cell_type": "code",
   "execution_count": 2,
   "metadata": {},
   "outputs": [],
   "source": [
    "\"\"\" Query wsdb for Gaia and GALEX magnitudes. \"\"\"\n",
    "\n",
    "##### Dependencies\n",
    "import numpy as np\n",
    "import pandas as pd\n",
    "%matplotlib osx\n",
    "import matplotlib.pyplot as plt\n",
    "from astropy import units as u\n",
    "from astropy.coordinates import SkyCoord as coord\n",
    "import sqlutilpy\n",
    "from astropy.io import fits"
   ]
  },
  {
   "cell_type": "code",
   "execution_count": 3,
   "metadata": {},
   "outputs": [],
   "source": [
    "##### Load your wsdb.id\n",
    "wsdbtmp = np.loadtxt('./wsdb.id',dtype=np.str_)\n",
    "wsdbid = {'user':wsdbtmp[0],'password':wsdbtmp[1]}"
   ]
  },
  {
   "cell_type": "code",
   "execution_count": 2,
   "metadata": {},
   "outputs": [],
   "source": [
    "##### Load in Xue data\n",
    "hdul = fits.open('./data/xue2011.fits')\n",
    "listcol = [hdul[1].data.__dict__['_coldefs'][i].name for i in range(len(hdul[1].data.__dict__['_coldefs']))]\n",
    "bhbbox = {k:hdul[1].data[k] for k in listcol}\n",
    "bhb_x = [hdul[1].data[k] for k in listcol]"
   ]
  },
  {
   "cell_type": "code",
   "execution_count": 3,
   "metadata": {},
   "outputs": [],
   "source": [
    "##### Query WSDB to get Gaia data \n",
    "bhb_keys = ['bhb'+lc for lc in listcol]\n",
    "gaia_keys = ['source_id', 'ra', 'ra_error', 'dec', 'dec_error', 'parallax', 'parallax_error', 'parallax_over_error', 'pmra', 'pmra_error', 'pmdec', 'pmdec_error', 'ra_dec_corr', 'ra_parallax_corr', 'ra_pmra_corr', 'ra_pmdec_corr', 'dec_parallax_corr', 'dec_pmra_corr', 'dec_pmdec_corr', 'parallax_pmra_corr', 'parallax_pmdec_corr', 'pmra_pmdec_corr', 'astrometric_n_obs_al', 'astrometric_n_obs_ac', 'astrometric_n_good_obs_al', 'astrometric_n_bad_obs_al', 'astrometric_gof_al', 'astrometric_chi2_al', 'astrometric_excess_noise', 'astrometric_excess_noise_sig', 'astrometric_params_solved', 'astrometric_primary_flag', 'astrometric_weight_al', 'astrometric_pseudo_colour', 'astrometric_pseudo_colour_error', 'mean_varpi_factor_al', 'astrometric_matched_observations', 'visibility_periods_used', 'astrometric_sigma5d_max', 'frame_rotator_object_type', 'matched_observations', 'duplicated_source', 'phot_g_n_obs', 'phot_g_mean_flux', 'phot_g_mean_flux_error', 'phot_g_mean_flux_over_error', 'phot_g_mean_mag', 'phot_bp_n_obs', 'phot_bp_mean_flux', 'phot_bp_mean_flux_error', 'phot_bp_mean_flux_over_error', 'phot_bp_mean_mag', 'phot_rp_n_obs', 'phot_rp_mean_flux', 'phot_rp_mean_flux_error', 'phot_rp_mean_flux_over_error', 'phot_rp_mean_mag', 'phot_bp_rp_excess_factor', 'phot_proc_mode', 'bp_rp', 'bp_g', 'g_rp', 'phot_variable_flag', 'l', 'b', 'a_g_val', 'e_bp_min_rp_val', 'radial_velocity', 'radial_velocity_error', 'rv_nb_transits','rv_template_teff','rv_template_logg','rv_template_fe_h','ebv']\n",
    "galex_keys = ['galex_ra','galex_dec','fuv_mag','fuv_magerr','nuv_mag','nuv_magerr']\n",
    "allwise_keys = ['allwise_ra','allwise_dec','w1mpro','w1sigmpro','w2mpro','w2sigmpro']"
   ]
  },
  {
   "cell_type": "code",
   "execution_count": 4,
   "metadata": {},
   "outputs": [
    {
     "ename": "QueryCanceledError",
     "evalue": "canceling statement due to user request\n",
     "output_type": "error",
     "traceback": [
      "\u001b[0;31m---------------------------------------------------------------------------\u001b[0m",
      "\u001b[0;31mQueryCanceledError\u001b[0m                        Traceback (most recent call last)",
      "\u001b[0;32m<ipython-input-4-2516376a3078>\u001b[0m in \u001b[0;36m<module>\u001b[0;34m()\u001b[0m\n\u001b[1;32m      7\u001b[0m        \u001b[0;34m(\u001b[0m\u001b[0mbhbbox\u001b[0m\u001b[0;34m[\u001b[0m\u001b[0;34m'RAJ2000'\u001b[0m\u001b[0;34m]\u001b[0m\u001b[0;34m,\u001b[0m\u001b[0mbhbbox\u001b[0m\u001b[0;34m[\u001b[0m\u001b[0;34m'DEJ2000'\u001b[0m\u001b[0;34m]\u001b[0m\u001b[0;34m,\u001b[0m\u001b[0mnp\u001b[0m\u001b[0;34m.\u001b[0m\u001b[0marange\u001b[0m\u001b[0;34m(\u001b[0m\u001b[0mlen\u001b[0m\u001b[0;34m(\u001b[0m\u001b[0mbhbbox\u001b[0m\u001b[0;34m[\u001b[0m\u001b[0;34m'RAJ2000'\u001b[0m\u001b[0;34m]\u001b[0m\u001b[0;34m)\u001b[0m\u001b[0;34m)\u001b[0m\u001b[0;34m)\u001b[0m\u001b[0;34m,\u001b[0m\u001b[0;34m(\u001b[0m\u001b[0;34m'bhbra'\u001b[0m\u001b[0;34m,\u001b[0m\u001b[0;34m'bhbdec'\u001b[0m\u001b[0;34m,\u001b[0m\u001b[0;34m'xid'\u001b[0m\u001b[0;34m)\u001b[0m\u001b[0;34m,\u001b[0m\u001b[0;34m\u001b[0m\u001b[0m\n\u001b[1;32m      8\u001b[0m            \u001b[0mhost\u001b[0m\u001b[0;34m=\u001b[0m\u001b[0;34m'cappc127.ast.cam.ac.uk'\u001b[0m\u001b[0;34m,\u001b[0m \u001b[0muser\u001b[0m\u001b[0;34m=\u001b[0m\u001b[0;34m'douglas_boubert'\u001b[0m\u001b[0;34m,\u001b[0m \u001b[0mpassword\u001b[0m\u001b[0;34m=\u001b[0m\u001b[0;34m'chopel3082'\u001b[0m\u001b[0;34m,\u001b[0m\u001b[0;34m\u001b[0m\u001b[0m\n\u001b[0;32m----> 9\u001b[0;31m        preamb='set enable_seqscan to off; set enable_mergejoin to off; set enable_hashjoin to off;')\n\u001b[0m\u001b[1;32m     10\u001b[0m \u001b[0mprint\u001b[0m\u001b[0;34m(\u001b[0m\u001b[0;34m\"Finished Gaia cross-match, \"\u001b[0m\u001b[0;34m+\u001b[0m\u001b[0mstr\u001b[0m\u001b[0;34m(\u001b[0m\u001b[0mnp\u001b[0m\u001b[0;34m.\u001b[0m\u001b[0mwhere\u001b[0m\u001b[0;34m(\u001b[0m\u001b[0mnp\u001b[0m\u001b[0;34m.\u001b[0m\u001b[0misnan\u001b[0m\u001b[0;34m(\u001b[0m\u001b[0mgaia_x\u001b[0m\u001b[0;34m[\u001b[0m\u001b[0;36m0\u001b[0m\u001b[0;34m]\u001b[0m\u001b[0;34m)\u001b[0m\u001b[0;34m==\u001b[0m\u001b[0;32mFalse\u001b[0m\u001b[0;34m)\u001b[0m\u001b[0;34m[\u001b[0m\u001b[0;36m0\u001b[0m\u001b[0;34m]\u001b[0m\u001b[0;34m.\u001b[0m\u001b[0mshape\u001b[0m\u001b[0;34m[\u001b[0m\u001b[0;36m0\u001b[0m\u001b[0;34m]\u001b[0m\u001b[0;34m)\u001b[0m\u001b[0;34m+\u001b[0m\u001b[0;34m\" sources.\"\u001b[0m\u001b[0;34m)\u001b[0m\u001b[0;34m\u001b[0m\u001b[0m\n\u001b[1;32m     11\u001b[0m \u001b[0;34m\u001b[0m\u001b[0m\n",
      "\u001b[0;32m~/anaconda3/lib/python3.6/site-packages/sqlutilpy/sqlutil.py\u001b[0m in \u001b[0;36mlocal_join\u001b[0;34m(query, tableName, arrays, names, db, driver, user, password, host, port, conn, preamb, timeout, strLength, asDict)\u001b[0m\n\u001b[1;32m    563\u001b[0m            analyze=True)\n\u001b[1;32m    564\u001b[0m     res = get(query, conn=conn, preamb=preamb, strLength=strLength,\n\u001b[0;32m--> 565\u001b[0;31m               asDict=asDict)\n\u001b[0m\u001b[1;32m    566\u001b[0m     \u001b[0mconn\u001b[0m\u001b[0;34m.\u001b[0m\u001b[0mrollback\u001b[0m\u001b[0;34m(\u001b[0m\u001b[0;34m)\u001b[0m\u001b[0;34m\u001b[0m\u001b[0m\n\u001b[1;32m    567\u001b[0m \u001b[0;34m\u001b[0m\u001b[0m\n",
      "\u001b[0;32m~/anaconda3/lib/python3.6/site-packages/sqlutilpy/sqlutil.py\u001b[0m in \u001b[0;36mget\u001b[0;34m(query, params, db, driver, user, password, host, preamb, conn, port, strLength, timeout, notNamed, asDict, intNullVal)\u001b[0m\n\u001b[1;32m    280\u001b[0m             \u001b[0;32mtry\u001b[0m\u001b[0;34m:\u001b[0m\u001b[0;34m\u001b[0m\u001b[0m\n\u001b[1;32m    281\u001b[0m                 \u001b[0;32mwhile\u001b[0m\u001b[0;34m(\u001b[0m\u001b[0;32mTrue\u001b[0m\u001b[0;34m)\u001b[0m\u001b[0;34m:\u001b[0m\u001b[0;34m\u001b[0m\u001b[0m\n\u001b[0;32m--> 282\u001b[0;31m                     \u001b[0mtups\u001b[0m \u001b[0;34m=\u001b[0m \u001b[0mcur\u001b[0m\u001b[0;34m.\u001b[0m\u001b[0mfetchmany\u001b[0m\u001b[0;34m(\u001b[0m\u001b[0;34m)\u001b[0m\u001b[0;34m\u001b[0m\u001b[0m\n\u001b[0m\u001b[1;32m    283\u001b[0m                     \u001b[0;32mif\u001b[0m \u001b[0mnrec\u001b[0m \u001b[0;34m==\u001b[0m \u001b[0;36m0\u001b[0m\u001b[0;34m:\u001b[0m\u001b[0;34m\u001b[0m\u001b[0m\n\u001b[1;32m    284\u001b[0m                         \u001b[0mdesc\u001b[0m \u001b[0;34m=\u001b[0m \u001b[0mcur\u001b[0m\u001b[0;34m.\u001b[0m\u001b[0mdescription\u001b[0m\u001b[0;34m\u001b[0m\u001b[0m\n",
      "\u001b[0;31mQueryCanceledError\u001b[0m: canceling statement due to user request\n"
     ]
    }
   ],
   "source": [
    "### Cross-match with Gaia source\n",
    "gaia_x = sqlutilpy.local_join(\"\"\"\n",
    "   select CAST(source_id as real), ra, ra_error, dec, dec_error, parallax, parallax_error, parallax_over_error, pmra, pmra_error, pmdec, pmdec_error, ra_dec_corr, ra_parallax_corr, ra_pmra_corr, ra_pmdec_corr, dec_parallax_corr, dec_pmra_corr, dec_pmdec_corr, parallax_pmra_corr, parallax_pmdec_corr, pmra_pmdec_corr, CAST(astrometric_n_obs_al as real), CAST(astrometric_n_obs_ac as real), CAST(astrometric_n_good_obs_al as real), CAST(astrometric_n_bad_obs_al as real), astrometric_gof_al, astrometric_chi2_al, astrometric_excess_noise, astrometric_excess_noise_sig, CAST(astrometric_params_solved as real), astrometric_primary_flag, astrometric_weight_al, astrometric_pseudo_colour, astrometric_pseudo_colour_error, mean_varpi_factor_al, CAST(astrometric_matched_observations as real), CAST(visibility_periods_used as real), astrometric_sigma5d_max, CAST(frame_rotator_object_type as real), CAST(matched_observations as real), duplicated_source, CAST(phot_g_n_obs as real), phot_g_mean_flux, phot_g_mean_flux_error, phot_g_mean_flux_over_error, phot_g_mean_mag, CAST(phot_bp_n_obs as real), phot_bp_mean_flux, phot_bp_mean_flux_error, phot_bp_mean_flux_over_error, phot_bp_mean_mag, CAST(phot_rp_n_obs as real), phot_rp_mean_flux, phot_rp_mean_flux_error, phot_rp_mean_flux_over_error, phot_rp_mean_mag, phot_bp_rp_excess_factor, CAST(phot_proc_mode as real), bp_rp, bp_g, g_rp, phot_variable_flag, l, b, a_g_val, e_bp_min_rp_val, radial_velocity, radial_velocity_error, CAST(rv_nb_transits as real),rv_template_teff,rv_template_logg,rv_template_fe_h,ebv from mytable as m left join lateral (select * from gaia_dr2.gaia_source as g where \n",
    "               q3c_join(m.bhbra, m.bhbdec,g.ra,g.dec,1./3600)\n",
    "       order by q3c_dist(m.bhbra,m.bhbdec,g.ra,g.dec) asc limit 1)\n",
    "       as tt on  true  order by xid\"\"\",'mytable',\n",
    "       (bhbbox['RAJ2000'],bhbbox['DEJ2000'],np.arange(len(bhbbox['RAJ2000']))),('bhbra','bhbdec','xid'),\n",
    "           host='cappc127.ast.cam.ac.uk', user=wsdbid['user'], password=wsdbid['password'],\n",
    "       preamb='set enable_seqscan to off; set enable_mergejoin to off; set enable_hashjoin to off;')\n",
    "print(\"Finished Gaia cross-match, \"+str(np.where(np.isnan(gaia_x[0])==False)[0].shape[0])+\" sources.\")                \n",
    "\n",
    "### Cross-match with GALEX\n",
    "galex_x = sqlutilpy.local_join(\"\"\"\n",
    "   select ra,dec,fuv_mag,fuv_magerr,nuv_mag,nuv_magerr from mytable as m left join lateral (select * from galex_bst17.main_fov055 as g where \n",
    "               q3c_join(m.bhbra, m.bhbdec,g.ra,g.dec,10./3600)\n",
    "       order by q3c_dist(m.bhbra,m.bhbdec,g.ra,g.dec) asc limit 1)\n",
    "       as tt on  true  order by xid\"\"\",'mytable',\n",
    "       (bhbbox['RAJ2000'],bhbbox['DEJ2000'],np.arange(len(bhbbox['RAJ2000']))),('bhbra','bhbdec','xid'),\n",
    "           host='cappc127.ast.cam.ac.uk', user=wsdbid['user'], password=wsdbid['password'],\n",
    "       preamb='set enable_seqscan to off; set enable_mergejoin to off; set enable_hashjoin to off;')\n",
    "print(\"Finished GALEX cross-match, \"+str(np.where(np.isnan(galex_x[0])==False)[0].shape[0])+\" sources.\")\n",
    "\n",
    "### Cross-match with ALLWISE\n",
    "allwise_x = sqlutilpy.local_join(\"\"\"\n",
    "   select ra, dec, w1mpro, w1sigmpro, w2mpro, w2sigmpro from mytable as m left join lateral (select * from allwise.main as g where \n",
    "               q3c_join(m.bhbra, m.bhbdec,g.ra,g.dec,10./3600)\n",
    "       order by q3c_dist(m.bhbra,m.bhbdec,g.ra,g.dec) asc limit 1)\n",
    "       as tt on  true  order by xid\"\"\",'mytable',\n",
    "       (bhbbox['RAJ2000'],bhbbox['DEJ2000'],np.arange(len(bhbbox['RAJ2000']))),('bhbra','bhbdec','xid'),\n",
    "           host='cappc127.ast.cam.ac.uk', user=wsdbid['user'], password=wsdbid['password'],\n",
    "       preamb='set enable_seqscan to off; set enable_mergejoin to off; set enable_hashjoin to off;')\n",
    "print(\"Finished ALLWISE cross-match, \"+str(np.where(np.isnan(allwise_x[0])==False)[0].shape[0])+\" sources.\") "
   ]
  },
  {
   "cell_type": "code",
   "execution_count": 38,
   "metadata": {},
   "outputs": [],
   "source": [
    "##### Merge together\n",
    "x = bhb_x+gaia_x+galex_x+allwise_x\n",
    "keys = bhb_keys+gaia_keys+galex_keys+allwise_keys\n",
    "gagabhbbox = {keys[i]:x[i] for i in range(len(x))}"
   ]
  },
  {
   "cell_type": "code",
   "execution_count": 39,
   "metadata": {},
   "outputs": [],
   "source": [
    "##### Save cross-match\n",
    "np.savez_compressed('./data/gagabhb.npz',gagabhbbox=gagabhbbox)"
   ]
  },
  {
   "cell_type": "code",
   "execution_count": null,
   "metadata": {},
   "outputs": [],
   "source": []
  }
 ],
 "metadata": {
  "kernelspec": {
   "display_name": "Python 3",
   "language": "python",
   "name": "python3"
  },
  "language_info": {
   "codemirror_mode": {
    "name": "ipython",
    "version": 3
   },
   "file_extension": ".py",
   "mimetype": "text/x-python",
   "name": "python",
   "nbconvert_exporter": "python",
   "pygments_lexer": "ipython3",
   "version": "3.6.4"
  }
 },
 "nbformat": 4,
 "nbformat_minor": 2
}
